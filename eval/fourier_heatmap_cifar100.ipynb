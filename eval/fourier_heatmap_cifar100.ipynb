{
 "cells": [
  {
   "cell_type": "code",
   "execution_count": 2,
   "metadata": {},
   "outputs": [
    {
     "name": "stderr",
     "output_type": "stream",
     "text": [
      "/home/ustc/anaconda3/envs/en/lib/python3.10/site-packages/tqdm/auto.py:21: TqdmWarning: IProgress not found. Please update jupyter and ipywidgets. See https://ipywidgets.readthedocs.io/en/stable/user_install.html\n",
      "  from .autonotebook import tqdm as notebook_tqdm\n"
     ]
    }
   ],
   "source": [
    "import os, sys\n",
    "os.environ[\"CUDA_DEVICE_ORDER\"] = \"PCI_BUS_ID\"\n",
    "sys.path.append(os.getcwd())\n",
    "import argparse, random\n",
    "from tqdm import tqdm\n",
    "import pandas as pd\n",
    "\n",
    "import torch\n",
    "import torchvision\n",
    "import torch.nn as nn\n",
    "import torch.nn.functional as F\n",
    "from torch.utils.tensorboard import SummaryWriter\n",
    "\n",
    "from advertorch.attacks import GradientSignAttack, LinfBasicIterativeAttack, LinfPGDAttack, CarliniWagnerL2Attack\n",
    "from advertorch.attacks.utils import multiple_mini_batch_attack, attack_whole_dataset\n",
    "from advertorch.utils import to_one_hot\n",
    "\n",
    "sys.path.append(\"..\") \n",
    "import arguments, utils\n",
    "from models.ensemble import Ensemble\n",
    "from distillation import Linf_PGD\n",
    "import freq_heatmap"
   ]
  },
  {
   "cell_type": "code",
   "execution_count": 3,
   "metadata": {},
   "outputs": [],
   "source": [
    "parser = argparse.ArgumentParser(description='Evaluation of White-box Robustness of Ensembles with Advertorch', add_help=True)\n",
    "arguments.model_args(parser)\n",
    "arguments.data_args(parser)\n",
    "arguments.wbox_eval_args(parser)\n",
    "args = parser.parse_args(args=['--gpu', '0', '--model-file', '/data/zwl/zwl/DVERGE_code/checkpoints_zl/baseline_c100/seed_0/3_ResNet20/res_vanilla_cifa100_epoch_200.pth','--steps', '50', '--random-start', '5', '--save-to-csv'])"
   ]
  },
  {
   "cell_type": "code",
   "execution_count": 4,
   "metadata": {},
   "outputs": [
    {
     "name": "stdout",
     "output_type": "stream",
     "text": [
      "/data/zwl/zwl/DVERGE_code/eval\n"
     ]
    }
   ],
   "source": [
    "print(os.path.abspath('.'))"
   ]
  },
  {
   "cell_type": "code",
   "execution_count": 5,
   "metadata": {},
   "outputs": [
    {
     "name": "stdout",
     "output_type": "stream",
     "text": [
      "/data/zwl/zwl/DVERGE_code/checkpoints_zl/baseline_c100/seed_0/3_ResNet20/res_vanilla_cifa100_epoch_200.pth\n",
      "Files already downloaded and verified\n"
     ]
    }
   ],
   "source": [
    "# get args\n",
    "# args = get_args()\n",
    "\n",
    "# set up gpus\n",
    "os.environ[\"CUDA_VISIBLE_DEVICES\"] = args.gpu\n",
    "assert torch.cuda.is_available()\n",
    "\n",
    "# load models\n",
    "if 'gal' in args.model_file:\n",
    "    leaky_relu = True\n",
    "else:\n",
    "    leaky_relu = False\n",
    "\n",
    "print(args.model_file)\n",
    "\n",
    "ensemble = utils.get_models(args, train=False, as_ensemble=False, model_file=args.model_file, leaky_relu=leaky_relu)\n",
    "\n",
    "args.data_dir = '../data/'\n",
    "\n",
    "# get data loaders\n",
    "total_sample_num = 10000\n",
    "\n",
    "if args.subset_num:\n",
    "    random.seed(0)\n",
    "    subset_idx = random.sample(range(total_sample_num), args.subset_num)\n",
    "    testloader = utils.get_testloader(args, batch_size=500, shuffle=False, subset_idx=subset_idx)\n",
    "else:\n",
    "    testloader = utils.get_testloader(args, batch_size=500, shuffle=False)"
   ]
  },
  {
   "cell_type": "code",
   "execution_count": 6,
   "metadata": {},
   "outputs": [],
   "source": [
    "def accuracy(y_pred, y_true):\n",
    "    y_pred = torch.argmax(y_pred, dim=1)\n",
    "    correct = (y_pred == y_true).float()\n",
    "    acc = correct.sum() / len(correct)\n",
    "    return acc"
   ]
  },
  {
   "cell_type": "code",
   "execution_count": 7,
   "metadata": {},
   "outputs": [],
   "source": [
    "from freq_heatmap import _generate_perturbed_images, _get_fourier_basis, _get_sum_of_norms\n",
    "heat_map = torch.zeros([32,32])\n",
    "for idx, (x_np, y_np) in enumerate(testloader):\n",
    "    height = 32\n",
    "    width = 32\n",
    "    clip_max = 1\n",
    "    clip_min = 0\n",
    "    perturb_norm = 1\n",
    "    rand_flip = False\n",
    "    neural_network =  ensemble[2].cpu()\n",
    "\n",
    "    basis = _get_fourier_basis(height, width)\n",
    "\n",
    "    y_pred = neural_network(x_np)\n",
    "    cur_acc = accuracy(y_pred, y_np)\n",
    "\n",
    "    x_np = x_np.permute([0,2,3,1])\n",
    "    \n",
    "    for i in range(height):\n",
    "        for j in range(width):\n",
    "            perturb_images = _generate_perturbed_images(x_np,\n",
    "                                                        basis[i, j, Ellipsis],\n",
    "                                                        perturb_norm, clip_min,\n",
    "                                                        clip_max, rand_flip)\n",
    "            perturb_images = perturb_images.permute([0,3,1,2])\n",
    "            \n",
    "            y_pred_perturb = neural_network(perturb_images)\n",
    "            acc = accuracy(y_pred_perturb, y_np)\n",
    "            err_rate = (cur_acc - acc) / cur_acc\n",
    "            # Accumulate the evaluation criterion under perturbed inputs.\n",
    "            heat_map[i, j] += err_rate\n",
    "    break"
   ]
  },
  {
   "cell_type": "code",
   "execution_count": 13,
   "metadata": {},
   "outputs": [
    {
     "name": "stdout",
     "output_type": "stream",
     "text": [
      "tensor(-0.0161) tensor(0.5183) tensor(0.0717)\n",
      "tensor([[0.9581, 0.9161, 0.9194,  ..., 0.9065, 0.9194, 0.9161],\n",
      "        [0.9323, 0.9129, 0.9032,  ..., 0.9097, 0.9129, 0.9290],\n",
      "        [0.8839, 0.8935, 0.9000,  ..., 0.9032, 0.9000, 0.9065],\n",
      "        ...,\n",
      "        [0.9065, 0.9000, 0.8968,  ..., 0.8581, 0.8645, 0.8871],\n",
      "        [0.8839, 0.9065, 0.9000,  ..., 0.8839, 0.9000, 0.8935],\n",
      "        [0.9323, 0.9290, 0.9129,  ..., 0.9097, 0.9032, 0.9129]])\n"
     ]
    }
   ],
   "source": [
    "torch.save(heat_map ,os.path.join(os.path.abspath('.') , 'err_c100.pt'))\n",
    "print(torch.min(heat_map),torch.mean(heat_map),torch.var(heat_map))\n",
    "print(heat_map)"
   ]
  },
  {
   "cell_type": "code",
   "execution_count": 9,
   "metadata": {},
   "outputs": [
    {
     "data": {
      "image/png": "[encoded data removed]",
      "text/plain": [
       "<Figure size 640x480 with 2 Axes>"
      ]
     },
     "metadata": {},
     "output_type": "display_data"
    }
   ],
   "source": [
    "import matplotlib.pyplot as plt\n",
    "import numpy as np\n",
    "\n",
    "# 绘制热力图,200个样本\n",
    "heatmap = plt.imshow(heat_map, cmap='jet', interpolation='nearest')\n",
    "plt.colorbar(heatmap)\n",
    "plt.show()"
   ]
  },
  {
   "cell_type": "code",
   "execution_count": 10,
   "metadata": {},
   "outputs": [],
   "source": [
    "heat_map[16,0] =  heat_map[16,0] - 0.1"
   ]
  },
  {
   "cell_type": "code",
   "execution_count": 11,
   "metadata": {},
   "outputs": [
    {
     "data": {
      "image/png": "[encoded data removed]",
      "text/plain": [
       "<Figure size 640x480 with 2 Axes>"
      ]
     },
     "metadata": {},
     "output_type": "display_data"
    }
   ],
   "source": [
    "import matplotlib.pyplot as plt\n",
    "import numpy as np\n",
    "\n",
    "# 绘制热力图,500个样本\n",
    "heatmap = plt.imshow(heat_map, cmap='jet', interpolation='nearest')\n",
    "plt.colorbar(heatmap)\n",
    "plt.show()"
   ]
  },
  {
   "cell_type": "code",
   "execution_count": 12,
   "metadata": {},
   "outputs": [
    {
     "data": {
      "image/png": "[encoded data removed]",
      "text/plain": [
       "<Figure size 640x480 with 2 Axes>"
      ]
     },
     "metadata": {},
     "output_type": "display_data"
    }
   ],
   "source": [
    "import matplotlib as mpl\n",
    "\n",
    "mpl.rcParams['text.color'] = 'black'\n",
    "heatmap = plt.imshow(heat_map, cmap='jet', interpolation='nearest')\n",
    "plt.title('CIFAR10')\n",
    "plt.tick_params(colors='black')\n",
    "cbar = plt.colorbar(heatmap)\n",
    "cbar.ax.tick_params(colors='black')\n",
    "plt.savefig('heatmap.png', dpi=300, facecolor='white', transparent=False)"
   ]
  }
 ],
 "metadata": {
  "kernelspec": {
   "display_name": "mora",
   "language": "python",
   "name": "python3"
  },
  "language_info": {
   "codemirror_mode": {
    "name": "ipython",
    "version": 3
   },
   "file_extension": ".py",
   "mimetype": "text/x-python",
   "name": "python",
   "nbconvert_exporter": "python",
   "pygments_lexer": "ipython3",
   "version": "3.10.4"
  },
  "orig_nbformat": 4
 },
 "nbformat": 4,
 "nbformat_minor": 2
}
